{
 "cells": [
  {
   "cell_type": "code",
   "execution_count": 152,
   "metadata": {},
   "outputs": [],
   "source": [
    "# all the import statements\n",
    "\n",
    "import numpy as np \n",
    "import pandas as pd \n",
    "import matplotlib.pyplot as plt\n",
    "from pandas.plotting import scatter_matrix\n",
    "from sklearn.utils import shuffle \n",
    "from sklearn.preprocessing import OneHotEncoder, StandardScaler, FunctionTransformer\n",
    "from sklearn.pipeline import Pipeline\n",
    "from sklearn.impute import SimpleImputer as Imputer\n",
    "from sklearn.preprocessing import PolynomialFeatures\n",
    "from sklearn.feature_selection import SelectKBest\n",
    "from sklearn.utils.class_weight import compute_class_weight\n",
    "from sklearn.model_selection import cross_validate,RandomizedSearchCV\n",
    "from sklearn.compose import ColumnTransformer\n",
    "from sklearn.linear_model import SGDClassifier\n",
    "from sklearn.model_selection import cross_val_score,cross_validate\n",
    "from sklearn.svm import SVC\n",
    "from sklearn.metrics import make_scorer, accuracy_score, precision_score, recall_score, f1_score\n",
    "from sklearn.ensemble import RandomForestClassifier\n",
    "from sklearn.tree import DecisionTreeClassifier\n",
    "from sklearn.metrics import roc_curve\n",
    "from sklearn.base import BaseEstimator, TransformerMixin\n",
    "from sklearn.impute import SimpleImputer"
   ]
  },
  {
   "cell_type": "code",
   "execution_count": 153,
   "metadata": {},
   "outputs": [
    {
     "name": "stdout",
     "output_type": "stream",
     "text": [
      "['HomePlanet', 'CryoSleep', 'Destination', 'VIP'] ['Age', 'RoomService', 'FoodCourt', 'ShoppingMall', 'Spa', 'VRDeck']\n",
      "  PassengerId HomePlanet CryoSleep  Cabin  Destination   Age    VIP  \\\n",
      "0     0001_01     Europa     False  B/0/P  TRAPPIST-1e  39.0  False   \n",
      "1     0002_01      Earth     False  F/0/S  TRAPPIST-1e  24.0  False   \n",
      "2     0003_01     Europa     False  A/0/S  TRAPPIST-1e  58.0   True   \n",
      "3     0003_02     Europa     False  A/0/S  TRAPPIST-1e  33.0  False   \n",
      "4     0004_01      Earth     False  F/1/S  TRAPPIST-1e  16.0  False   \n",
      "\n",
      "   RoomService  FoodCourt  ShoppingMall     Spa  VRDeck               Name  \n",
      "0          0.0        0.0           0.0     0.0     0.0    Maham Ofracculy  \n",
      "1        109.0        9.0          25.0   549.0    44.0       Juanna Vines  \n",
      "2         43.0     3576.0           0.0  6715.0    49.0      Altark Susent  \n",
      "3          0.0     1283.0         371.0  3329.0   193.0       Solam Susent  \n",
      "4        303.0       70.0         151.0   565.0     2.0  Willy Santantines  \n",
      "Basic processing completed.\n"
     ]
    }
   ],
   "source": [
    "def load_data():\n",
    "    train_data = pd.read_csv('train.csv')\n",
    "    return train_data\n",
    "\n",
    "train_data = load_data()\n",
    "training_data = train_data.drop(columns=[\"Transported\"])\n",
    "target_label = train_data[\"Transported\"]\n",
    "target_attributes = [\"Transported\"]\n",
    "\n",
    "num_attributes = training_data.select_dtypes(include=[np.number]).columns.tolist()\n",
    "cat_attributes = training_data.select_dtypes(exclude=[np.number]).columns.tolist()\n",
    "items_to_remove = [\"PassengerId\", \"Name\", \"Cabin\"]\n",
    "new_cat_attributes = [ x for x in cat_attributes if x not in items_to_remove]\n",
    "print(new_cat_attributes,num_attributes)\n",
    "\n",
    "# scat_matrix = scatter_matrix(training_data,figsize=(10,10),grid=True, diagonal='kde', alpha=0.2)\n",
    "# raining_data.hist(figsize=(10,10), grid=True, bins=20, alpha=0.5)\n",
    "print(training_data.head())\n",
    "print(\"Basic processing completed.\")"
   ]
  },
  {
   "cell_type": "code",
   "execution_count": 154,
   "metadata": {},
   "outputs": [],
   "source": [
    "training_data = shuffle(training_data, random_state=42)\n",
    "\n",
    "num_pipeline = Pipeline([\n",
    "    ('imputer', SimpleImputer(strategy='mean')),\n",
    "    ('std_scaler', StandardScaler()),\n",
    "    ('poly_features', PolynomialFeatures(degree=2, include_bias=False)),\n",
    "    ('feature_selector', SelectKBest(k=5)) \n",
    "])\n",
    "\n",
    "cat_pipeline = Pipeline([\n",
    "    ('imputer', SimpleImputer(strategy='constant', fill_value='missing')),\n",
    "    ('text_cleaner', FunctionTransformer(\n",
    "        lambda x: pd.DataFrame(x).astype(str).apply(lambda col: col.str.lower().str.strip()), \n",
    "        validate=False\n",
    "    )),\n",
    "    ('one_hot_encoder', OneHotEncoder(handle_unknown='ignore'))\n",
    "])\n",
    "\n",
    "pre_processing = ColumnTransformer(\n",
    "    transformers=[\n",
    "        ('num', num_pipeline,num_attributes),\n",
    "        ('cat', cat_pipeline,new_cat_attributes)\n",
    "    ],\n",
    "    remainder='drop'\n",
    ")"
   ]
  },
  {
   "cell_type": "code",
   "execution_count": 155,
   "metadata": {},
   "outputs": [
    {
     "name": "stdout",
     "output_type": "stream",
     "text": [
      "Class weights computed\n"
     ]
    }
   ],
   "source": [
    "def compute_class_weights(train_data):\n",
    "    class_weight = compute_class_weight(class_weight='balanced',classes = np.unique(train_data[\"Transported\"]),y=train_data[\"Transported\"])\n",
    "    class_weight_dict = dict(enumerate(class_weight))\n",
    "    print(\"Class weights computed\")\n",
    "    return class_weight_dict\n",
    "\n",
    "class_weights = compute_class_weights(train_data)"
   ]
  },
  {
   "cell_type": "code",
   "execution_count": 156,
   "metadata": {},
   "outputs": [
    {
     "name": "stdout",
     "output_type": "stream",
     "text": [
      "Model pipeline created.\n"
     ]
    }
   ],
   "source": [
    "sgd_clf = SGDClassifier(random_state=42,loss=\"hinge\",penalty=\"l2\",max_iter=1000, tol=1e-3,\n",
    "                        alpha=0.00001, learning_rate=\"optimal\", eta0=0.0, power_t=0.5,\n",
    "                        early_stopping=True,class_weight=class_weights)\n",
    "\n",
    "svm_clf = SVC(kernel=\"rbf\", C=1.0, gamma='scale', probability=True,random_state=42)\n",
    "\n",
    "rf_clf = RandomForestClassifier(n_estimators=200, max_depth=10,\n",
    "                                min_samples_split=10, min_samples_leaf=2,\n",
    "                                max_features='log2', bootstrap=True,ccp_alpha=0.01,\n",
    "                                class_weight=class_weights, random_state=42)\n",
    "\n",
    "model_pipeline = Pipeline([\n",
    "('pre_processor', pre_processing),\n",
    "('classifier', svm_clf)])\n",
    "\n",
    "print(\"Model pipeline created.\")    "
   ]
  },
  {
   "cell_type": "code",
   "execution_count": 158,
   "metadata": {},
   "outputs": [
    {
     "name": "stdout",
     "output_type": "stream",
     "text": [
      "                             0\n",
      "fit_time              5.411584\n",
      "score_time            0.430828\n",
      "test_accuracy         0.499252\n",
      "test_precision_macro  0.463519\n",
      "test_recall_macro     0.498346\n",
      "test_f1_macro         0.457343\n"
     ]
    }
   ],
   "source": [
    "scoring = ['accuracy', 'precision_macro', 'recall_macro', 'f1_macro']\n",
    "cvl_scores = cross_validate(model_pipeline, training_data, target_label, cv=5,\n",
    "                            scoring=scoring, error_score=\"raise\")\n",
    "cvl_scores_df = pd.DataFrame(cvl_scores)\n",
    "print(pd.DataFrame(cvl_scores_df.mean()))"
   ]
  },
  {
   "cell_type": "code",
   "execution_count": null,
   "metadata": {},
   "outputs": [],
   "source": [
    "from sklearn.model_selection import cross_val_predict\n",
    "\n",
    "prd_scores = cross_val_predict(model_pipeline, training_data ,target_label, cv=20,method='predict_proba')\n",
    "print(prd_scores)\n",
    "fpr, tpr, thresholds = roc_curve(target_label, prd_scores[:, 1])\n",
    "\n",
    "def plot_roc_curve(fpr, tpr, label=None):\n",
    "    plt.plot(fpr, tpr, label=label, linewidth=2)\n",
    "    plt.xlabel('False Positive Rate')\n",
    "    plt.ylabel('True Positive Rate')\n",
    "    plt.show()\n",
    "    \n",
    "plot_roc_curve(fpr, tpr, label='ROC Curve')\n",
    "print(\"Model training and evaluation completed.\")"
   ]
  },
  {
   "cell_type": "code",
   "execution_count": null,
   "metadata": {},
   "outputs": [],
   "source": [
    "from sklearn.model_selection import RandomizedSearchCV\n",
    "\n",
    "param_dict = {\n",
    "    'classifier__n_estimators': [100, 200, 500],\n",
    "    'classifier__max_depth': [5, 10, 15, None],\n",
    "    'classifier__min_samples_split': [2, 5, 10],\n",
    "    'classifier__min_samples_leaf': [1, 2, 4],\n",
    "    'classifier__max_features': ['sqrt', 'log2', 0.3],\n",
    "    'classifier__ccp_alpha': [0.0, 0.01, 0.1],\n",
    "    'classifier__bootstrap': [True, False]\n",
    "}\n",
    "# Perform RandomizedSearchCV with SVC-specific parameters\n",
    "random_search = RandomizedSearchCV(estimator=model_pipeline, param_distributions=param_dict, n_iter=10,\n",
    "                                   scoring='accuracy', cv=5, verbose=1, random_state=42, n_jobs=-1)\n",
    "random_search.fit(training_data, train_data_target)\n",
    "print(random_search.best_params_, random_search.best_score_)\n",
    "print(\"random_search completed.\")"
   ]
  }
 ],
 "metadata": {
  "kernelspec": {
   "display_name": "aiml_env",
   "language": "python",
   "name": "python3"
  },
  "language_info": {
   "codemirror_mode": {
    "name": "ipython",
    "version": 3
   },
   "file_extension": ".py",
   "mimetype": "text/x-python",
   "name": "python",
   "nbconvert_exporter": "python",
   "pygments_lexer": "ipython3",
   "version": "3.10.13"
  }
 },
 "nbformat": 4,
 "nbformat_minor": 2
}
