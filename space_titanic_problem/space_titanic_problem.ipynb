{
 "cells": [
  {
   "cell_type": "code",
   "execution_count": 48,
   "metadata": {},
   "outputs": [],
   "source": [
    "# all the import statements\n",
    "\n",
    "import numpy as np \n",
    "import pandas as pd \n",
    "import matplotlib.pyplot as plt\n",
    "from pandas.plotting import scatter_matrix\n",
    "from sklearn.utils import shuffle \n",
    "from sklearn.preprocessing import OneHotEncoder, StandardScaler, FunctionTransformer\n",
    "from sklearn.pipeline import Pipeline\n",
    "from sklearn.impute import SimpleImputer as Imputer\n",
    "from sklearn.preprocessing import PolynomialFeatures\n",
    "from sklearn.feature_selection import SelectKBest\n",
    "from sklearn.utils.class_weight import compute_class_weight\n",
    "from sklearn.model_selection import cross_validate,RandomizedSearchCV\n",
    "from sklearn.compose import ColumnTransformer\n",
    "from sklearn.linear_model import SGDClassifier\n",
    "from sklearn.model_selection import cross_val_score,cross_validate\n",
    "from sklearn.svm import SVC\n",
    "from sklearn.metrics import make_scorer, accuracy_score, precision_score, recall_score, f1_score\n",
    "from sklearn.ensemble import RandomForestClassifier\n",
    "from sklearn.tree import DecisionTreeClassifier\n",
    "from sklearn.metrics import roc_curve\n",
    "from sklearn.base import BaseEstimator, TransformerMixin\n",
    "from sklearn.impute import SimpleImputer"
   ]
  },
  {
   "cell_type": "code",
   "execution_count": null,
   "metadata": {},
   "outputs": [],
   "source": [
    "def load_data():\n",
    "    train_data = pd.read_csv('train.csv')\n",
    "    return train_data\n",
    "\n",
    "train_data = load_data()\n",
    "training_data = train_data.drop(columns=[\"Transported\"])\n",
    "target_label = train_data[\"Transported\"]\n",
    "target_label = target_label.astype(int)  # Convert boolean to int8 for memory efficiency\n",
    "target_attributes = [\"Transported\"]\n",
    "\n",
    "num_attributes = training_data.select_dtypes(include=[np.number]).columns.tolist()\n",
    "cat_attributes = training_data.select_dtypes(exclude=[np.number]).columns.tolist()\n",
    "items_to_remove = [\"PassengerId\", \"Name\", \"Cabin\",\"CryoSleep\",\"VIP\"]\n",
    "new_cat_attributes = [ x for x in cat_attributes if x not in items_to_remove]\n",
    "bool_attributes = [\"CryoSleep\", \"VIP\"]\n",
    "\n",
    "# scat_matrix = scatter_matrix(training_data,figsize=(10,10),grid=True, diagonal='kde', alpha=0.2)\n",
    "# training_data.hist(figsize=(10,10), grid=True, bins=20, alpha=0.5)\n",
    "print(\"Basic processing completed.\")"
   ]
  },
  {
   "cell_type": "code",
   "execution_count": 50,
   "metadata": {},
   "outputs": [],
   "source": [
    "training_data = shuffle(training_data, random_state=42)\n",
    "\n",
    "num_pipeline = Pipeline([\n",
    "    ('imputer', SimpleImputer(strategy='mean')),\n",
    "    ('std_scaler', StandardScaler()),\n",
    "    ('poly_features', PolynomialFeatures(degree=2, include_bias=False)),\n",
    "    ('select_k_best', SelectKBest(k=10))  \n",
    "])\n",
    "\n",
    "cat_pipeline = Pipeline([\n",
    "    ('imputer', SimpleImputer(strategy='constant', fill_value='missing')),\n",
    "    ('one_hot_encoder', OneHotEncoder(handle_unknown='ignore'))\n",
    "])\n",
    "\n",
    "bool_pipeline = Pipeline([  \n",
    "    ('imputer', SimpleImputer(strategy='constant', fill_value=False)),])\n",
    "\n",
    "pre_processing = ColumnTransformer(\n",
    "    transformers=[\n",
    "        ('num', num_pipeline,num_attributes),\n",
    "        ('cat', cat_pipeline,new_cat_attributes),\n",
    "        ('bool', bool_pipeline,bool_attributes)\n",
    "    ]\n",
    ")"
   ]
  },
  {
   "cell_type": "code",
   "execution_count": 51,
   "metadata": {},
   "outputs": [
    {
     "name": "stdout",
     "output_type": "stream",
     "text": [
      "Class weights computed\n"
     ]
    }
   ],
   "source": [
    "def compute_class_weights(train_data):\n",
    "    class_weight = compute_class_weight(class_weight='balanced',classes = np.unique(train_data[\"Transported\"]),y=train_data[\"Transported\"])\n",
    "    class_weight_dict = dict(enumerate(class_weight))\n",
    "    print(\"Class weights computed\")\n",
    "    return class_weight_dict\n",
    "\n",
    "class_weights = compute_class_weights(train_data)"
   ]
  },
  {
   "cell_type": "code",
   "execution_count": 52,
   "metadata": {},
   "outputs": [
    {
     "name": "stdout",
     "output_type": "stream",
     "text": [
      "Model pipeline created.\n"
     ]
    }
   ],
   "source": [
    "sgd_clf = SGDClassifier(random_state=42,loss=\"hinge\",penalty=\"l2\",max_iter=1000, tol=1e-3,\n",
    "                        alpha=0.00001, learning_rate=\"optimal\", eta0=0.0, power_t=0.5,\n",
    "                        early_stopping=True,class_weight=class_weights)\n",
    "\n",
    "svm_clf = SVC(kernel=\"rbf\", C=1.0, gamma='scale', probability=True,random_state=42)\n",
    "\n",
    "rf_clf = RandomForestClassifier(n_estimators=100, max_depth=10,\n",
    "                                min_samples_split=10, min_samples_leaf=2,\n",
    "                                max_features='log2', bootstrap=True,ccp_alpha=0.01,\n",
    "                                class_weight=class_weights, random_state=42)\n",
    "\n",
    "model_pipeline = Pipeline([\n",
    "('pre_processor', pre_processing),\n",
    "('classifier', rf_clf)])\n",
    "\n",
    "scoring = ['accuracy', 'precision_macro', 'recall_macro', 'f1_macro']\n",
    "cvl_scores = cross_validate(model_pipeline, training_data, target_label, cv=5,scoring=scoring,\n",
    "                            error_score=\"raise\")\n",
    "cvl_scores_df = pd.DataFrame(cvl_scores)\n",
    "print(pd.DataFrame(cvl_scores_df.mean()))   "
   ]
  },
  {
   "cell_type": "code",
   "execution_count": 54,
   "metadata": {},
   "outputs": [
    {
     "name": "stdout",
     "output_type": "stream",
     "text": [
      "[[0.50018731 0.49981269]\n",
      " [0.50018731 0.49981269]\n",
      " [0.50018731 0.49981269]\n",
      " ...\n",
      " [0.50008256 0.49991744]\n",
      " [0.50008256 0.49991744]\n",
      " [0.50008256 0.49991744]]\n"
     ]
    },
    {
     "data": {
      "image/png": "[encoded data removed]",
      "text/plain": [
       "<Figure size 640x480 with 1 Axes>"
      ]
     },
     "metadata": {},
     "output_type": "display_data"
    },
    {
     "name": "stdout",
     "output_type": "stream",
     "text": [
      "Model training and evaluation completed.\n"
     ]
    }
   ],
   "source": [
    "from sklearn.model_selection import cross_val_predict\n",
    "\n",
    "prd_scores = cross_val_predict(model_pipeline, training_data ,target_label, cv=20,method='predict_proba')\n",
    "print(prd_scores)\n",
    "fpr, tpr, thresholds = roc_curve(target_label, prd_scores[:, 1])\n",
    "\n",
    "def plot_roc_curve(fpr, tpr, label=None):\n",
    "    plt.plot(fpr, tpr, label=label, linewidth=2)\n",
    "    plt.xlabel('False Positive Rate')\n",
    "    plt.ylabel('True Positive Rate')\n",
    "    plt.show()\n",
    "    \n",
    "plot_roc_curve(fpr, tpr, label='ROC Curve')\n",
    "print(\"Model training and evaluation completed.\")"
   ]
  },
  {
   "cell_type": "code",
   "execution_count": 55,
   "metadata": {},
   "outputs": [
    {
     "name": "stdout",
     "output_type": "stream",
     "text": [
      "Fitting 5 folds for each of 10 candidates, totalling 50 fits\n",
      "{'classifier__n_estimators': 100, 'classifier__min_samples_split': 10, 'classifier__min_samples_leaf': 2, 'classifier__max_features': 'log2', 'classifier__max_depth': 10, 'classifier__ccp_alpha': 0.0, 'classifier__bootstrap': False} 0.508224969576976\n",
      "random_search completed.\n"
     ]
    }
   ],
   "source": [
    "from sklearn.model_selection import RandomizedSearchCV\n",
    "\n",
    "param_dict = {\n",
    "    'classifier__n_estimators': [100, 200, 500],\n",
    "    'classifier__max_depth': [5, 10, 15, None],\n",
    "    'classifier__min_samples_split': [2, 5, 10],\n",
    "    'classifier__min_samples_leaf': [1, 2, 4],\n",
    "    'classifier__max_features': ['sqrt', 'log2', 0.3],\n",
    "    'classifier__ccp_alpha': [0.0, 0.01, 0.1],\n",
    "    'classifier__bootstrap': [True, False]\n",
    "}\n",
    "# Perform RandomizedSearchCV with SVC-specific parameters\n",
    "random_search = RandomizedSearchCV(estimator=model_pipeline, param_distributions=param_dict, n_iter=10,\n",
    "                                   scoring='accuracy', cv=5, verbose=1, random_state=42, n_jobs=-1)\n",
    "random_search.fit(training_data, target_label)\n",
    "print(random_search.best_params_, random_search.best_score_)\n",
    "print(\"random_search completed.\")"
   ]
  }
 ],
 "metadata": {
  "kernelspec": {
   "display_name": "aiml_env",
   "language": "python",
   "name": "python3"
  },
  "language_info": {
   "codemirror_mode": {
    "name": "ipython",
    "version": 3
   },
   "file_extension": ".py",
   "mimetype": "text/x-python",
   "name": "python",
   "nbconvert_exporter": "python",
   "pygments_lexer": "ipython3",
   "version": "3.10.13"
  }
 },
 "nbformat": 4,
 "nbformat_minor": 2
}
