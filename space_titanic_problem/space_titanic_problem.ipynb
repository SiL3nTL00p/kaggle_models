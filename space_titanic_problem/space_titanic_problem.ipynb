{
 "cells": [
  {
   "cell_type": "code",
   "execution_count": 1,
   "metadata": {},
   "outputs": [],
   "source": [
    "# all the import statements\n",
    "\n",
    "import numpy as np \n",
    "import pandas as pd \n",
    "import matplotlib.pyplot as plt\n",
    "from scipy.stats import randint,uniform\n",
    "from pandas.plotting import scatter_matrix\n",
    "from sklearn.utils import shuffle \n",
    "from sklearn.preprocessing import OneHotEncoder, StandardScaler, FunctionTransformer\n",
    "from sklearn.pipeline import Pipeline\n",
    "from sklearn.impute import SimpleImputer as Imputer\n",
    "from sklearn.preprocessing import PolynomialFeatures\n",
    "from sklearn.feature_selection import SelectKBest\n",
    "from sklearn.utils.class_weight import compute_class_weight\n",
    "from sklearn.model_selection import cross_validate,RandomizedSearchCV\n",
    "from sklearn.compose import ColumnTransformer\n",
    "from sklearn.linear_model import SGDClassifier\n",
    "from sklearn.model_selection import cross_val_score,cross_validate\n",
    "from sklearn.svm import SVC\n",
    "from sklearn.metrics import make_scorer, accuracy_score, precision_score, recall_score, f1_score\n",
    "from sklearn.ensemble import RandomForestClassifier\n",
    "from sklearn.tree import DecisionTreeClassifier\n",
    "from sklearn.metrics import roc_curve\n",
    "from sklearn.base import BaseEstimator, TransformerMixin\n",
    "from sklearn.impute import SimpleImputer\n",
    "from sklearn.model_selection import RandomizedSearchCV\n"
   ]
  },
  {
   "cell_type": "code",
   "execution_count": 2,
   "metadata": {},
   "outputs": [
    {
     "name": "stdout",
     "output_type": "stream",
     "text": [
      "Basic processing completed.\n"
     ]
    }
   ],
   "source": [
    "def load_data():\n",
    "    train_data = pd.read_csv('train.csv')\n",
    "    return train_data\n",
    "train_data = load_data()\n",
    "\n",
    "training_data = train_data.drop(columns=[\"Transported\"])\n",
    "target_data = train_data[\"Transported\"].astype(int)\n",
    "training_data['Expenses'] = training_data['RoomService'] + training_data['FoodCourt'] + training_data['ShoppingMall'] + training_data['Spa'] + training_data['VRDeck']\n",
    "training_data['Cabin_firstl'] = training_data['Cabin'].str.extract(r'([A-za-z])',expand=False)\n",
    "training_data = training_data.drop(columns=[\"Cabin\"])\n",
    "\n",
    "target_attributes = [\"Transported\"]\n",
    "num_attributes = training_data.select_dtypes(include=[np.number]).columns.tolist()\n",
    "cat_attributes = training_data.select_dtypes(exclude=[np.number]).columns.tolist()\n",
    "items_to_remove = [\"PassengerId\", \"Name\",'CryoSleep','VIP']\n",
    "new_cat_attributes = [ x for x in cat_attributes if x not in items_to_remove]\n",
    "bool_attributes = [\"CryoSleep\", \"VIP\"]\n",
    "\n",
    "# scat_matrix = scatter_matrix(training_data,figsize=(10,10),grid=True, diagonal='kde', alpha=0.2)\n",
    "# training_data.hist(figsize=(10,10), grid=True, bins=20, alpha=0.5)\n",
    "print(\"Basic processing completed.\")"
   ]
  },
  {
   "cell_type": "code",
   "execution_count": 3,
   "metadata": {},
   "outputs": [
    {
     "name": "stdout",
     "output_type": "stream",
     "text": [
      "Pipeline Ready\n"
     ]
    }
   ],
   "source": [
    "\n",
    "num_pipeline = Pipeline([\n",
    "    ('imputer', SimpleImputer(strategy='mean',missing_values=np.nan)),\n",
    "    ('std_scaler', StandardScaler()),\n",
    "    ('poly_features', PolynomialFeatures(degree=2, include_bias=False)),\n",
    "    ('select_k_best', SelectKBest(k=10))  \n",
    "])\n",
    "\n",
    "cat_pipeline = Pipeline([\n",
    "    ('imputer', SimpleImputer(strategy='most_frequent', missing_values=np.nan)),\n",
    "    ('one_hot_encoder', OneHotEncoder(handle_unknown='ignore'))\n",
    "])\n",
    "\n",
    "bool_pipeline = Pipeline([  \n",
    "    ('imputer', SimpleImputer(strategy='most_frequent',missing_values=np.nan)),\n",
    "    ('int_converter',FunctionTransformer(lambda x : x.astype(int)))])\n",
    "\n",
    "pre_processing = ColumnTransformer(\n",
    "    transformers=[\n",
    "        ('num', num_pipeline,num_attributes),\n",
    "        ('cat', cat_pipeline,new_cat_attributes),\n",
    "        ('bool', bool_pipeline,bool_attributes)\n",
    "    ]\n",
    ")\n",
    "print(\"Pipeline Ready\")"
   ]
  },
  {
   "cell_type": "code",
   "execution_count": 4,
   "metadata": {},
   "outputs": [
    {
     "name": "stdout",
     "output_type": "stream",
     "text": [
      "0       0\n",
      "1       1\n",
      "2       0\n",
      "3       0\n",
      "4       1\n",
      "       ..\n",
      "8688    0\n",
      "8689    0\n",
      "8690    1\n",
      "8691    0\n",
      "8692    1\n",
      "Name: Transported, Length: 8693, dtype: int64\n",
      "Class weights computed\n"
     ]
    }
   ],
   "source": [
    "def compute_class_weights(train_data):\n",
    "    class_weight = compute_class_weight(class_weight='balanced',classes = np.unique(train_data[\"Transported\"]),y=train_data[\"Transported\"])\n",
    "    class_weight_dict = dict(enumerate(class_weight))\n",
    "    print(\"Class weights computed\")\n",
    "    return class_weight_dict\n",
    "print(target_data)\n",
    "class_weights = compute_class_weights(train_data)"
   ]
  },
  {
   "cell_type": "code",
   "execution_count": 11,
   "metadata": {},
   "outputs": [
    {
     "name": "stdout",
     "output_type": "stream",
     "text": [
      "                             0\n",
      "fit_time              1.538481\n",
      "score_time            0.014534\n",
      "test_accuracy         0.795016\n",
      "test_precision_macro  0.797780\n",
      "test_recall_macro     0.794864\n",
      "test_f1_macro         0.794439\n"
     ]
    }
   ],
   "source": [
    "sgd_clf = SGDClassifier(random_state=42,loss=\"hinge\",penalty=\"l2\",max_iter=1000, tol=1e-3,\n",
    "                        alpha=0.00001, learning_rate=\"optimal\", eta0=0.0, power_t=0.5,\n",
    "                        early_stopping=True,class_weight=class_weights)\n",
    "\n",
    "svm_clf = SVC(kernel=\"rbf\", C=1.0, gamma='scale', probability=True,random_state=42)\n",
    "\n",
    "rf_clf = RandomForestClassifier(n_estimators=200, max_depth=10,\n",
    "                                min_samples_split=2, min_samples_leaf=4,\n",
    "                                max_features=0.3, bootstrap=False,ccp_alpha=0.0,\n",
    "                                class_weight=class_weights, random_state=42)\n",
    "\n",
    "model_pipeline = Pipeline([\n",
    "('pre_processor', pre_processing),\n",
    "('classifier', rf_clf)])\n",
    "\n",
    "scoring = ['accuracy', 'precision_macro', 'recall_macro', 'f1_macro']\n",
    "cvl_scores = cross_validate(model_pipeline, training_data, target_data, cv=25,scoring=scoring,\n",
    "                            error_score=\"raise\")\n",
    "cvl_scores_df = pd.DataFrame(cvl_scores)\n",
    "print(pd.DataFrame(cvl_scores_df.mean()))   "
   ]
  },
  {
   "cell_type": "code",
   "execution_count": 6,
   "metadata": {},
   "outputs": [
    {
     "name": "stdout",
     "output_type": "stream",
     "text": [
      "Fitting 10 folds for each of 10 candidates, totalling 100 fits\n",
      "{'classifier__bootstrap': False, 'classifier__ccp_alpha': 0.009767211400638388, 'classifier__max_depth': 19, 'classifier__max_features': 0.3, 'classifier__min_samples_leaf': 6, 'classifier__min_samples_split': 5, 'classifier__n_estimators': 363} 0.7648718966178591\n",
      "random_search completed.\n"
     ]
    }
   ],
   "source": [
    "\n",
    "param_dict = {\n",
    "    'classifier__n_estimators': randint(100,500),\n",
    "    'classifier__max_depth': randint(0,20),\n",
    "    'classifier__min_samples_split': randint(2,10),\n",
    "    'classifier__min_samples_leaf': randint(0,10),\n",
    "    'classifier__max_features': ['sqrt', 'log2', 0.3],\n",
    "    'classifier__ccp_alpha': uniform(0,0.1),\n",
    "    'classifier__bootstrap': [True, False]\n",
    "}\n",
    "# Perform RandomizedSearchCV with SVC-specific parameters\n",
    "random_search = RandomizedSearchCV(estimator=model_pipeline, param_distributions=param_dict, n_iter=10,\n",
    "                                   scoring='accuracy', cv=10, verbose=1, random_state=42, n_jobs=-1,\n",
    "                                   error_score='raise')\n",
    "random_search.fit(training_data, target_data)\n",
    "print(random_search.best_params_, random_search.best_score_)\n",
    "print(\"random_search completed.\")"
   ]
  },
  {
   "cell_type": "code",
   "execution_count": 7,
   "metadata": {},
   "outputs": [
    {
     "name": "stdout",
     "output_type": "stream",
     "text": [
      "[[0.20676591 0.79323409]\n",
      " [0.83577585 0.16422415]\n",
      " [0.95740479 0.04259521]\n",
      " ...\n",
      " [0.19747669 0.80252331]\n",
      " [0.96547019 0.03452981]\n",
      " [0.01840335 0.98159665]]\n"
     ]
    },
    {
     "data": {
      "image/png": "[encoded data removed]",
      "text/plain": [
       "<Figure size 640x480 with 1 Axes>"
      ]
     },
     "metadata": {},
     "output_type": "display_data"
    },
    {
     "name": "stdout",
     "output_type": "stream",
     "text": [
      "Model training and evaluation completed.\n"
     ]
    }
   ],
   "source": [
    "from sklearn.model_selection import cross_val_predict\n",
    "\n",
    "prd_scores = cross_val_predict(model_pipeline, training_data ,target_data, cv=20,method='predict_proba')\n",
    "print(prd_scores)\n",
    "fpr, tpr, thresholds = roc_curve(target_data, prd_scores[:, 1])\n",
    "\n",
    "def plot_roc_curve(fpr, tpr, label=None):\n",
    "    plt.plot(fpr, tpr, label=label, linewidth=2)\n",
    "    plt.xlabel('False Positive Rate')\n",
    "    plt.ylabel('True Positive Rate')\n",
    "    plt.show()\n",
    "    \n",
    "plot_roc_curve(fpr, tpr, label='ROC Curve')\n",
    "print(\"Model training and evaluation completed.\")"
   ]
  },
  {
   "cell_type": "code",
   "execution_count": 8,
   "metadata": {},
   "outputs": [
    {
     "name": "stdout",
     "output_type": "stream",
     "text": [
      "Submission file created.\n"
     ]
    }
   ],
   "source": [
    "model_pipeline.fit(training_data, target_data)\n",
    "\n",
    "test_data = pd.read_csv('test.csv')\n",
    "test_data['Expenses'] = test_data['RoomService'] + test_data['FoodCourt'] + test_data['ShoppingMall'] + test_data['Spa'] + test_data['VRDeck']\n",
    "test_data['Cabin_firstl'] = test_data['Cabin'].str.extract(r'([A-za-z])',expand=False)\n",
    "\n",
    "predict_transporting = model_pipeline.predict(test_data)\n",
    "predict_surviving = model_pipeline.predict(test_data)\n",
    "sub_data = pd.DataFrame({'PassengerId': test_data['PassengerId'], 'Survived': predict_surviving})\n",
    "sub_data.to_csv('submission.csv', index=False)\n",
    "print(\"Submission file created.\")"
   ]
  }
 ],
 "metadata": {
  "kernelspec": {
   "display_name": "aiml_env",
   "language": "python",
   "name": "python3"
  },
  "language_info": {
   "codemirror_mode": {
    "name": "ipython",
    "version": 3
   },
   "file_extension": ".py",
   "mimetype": "text/x-python",
   "name": "python",
   "nbconvert_exporter": "python",
   "pygments_lexer": "ipython3",
   "version": "3.10.13"
  }
 },
 "nbformat": 4,
 "nbformat_minor": 2
}
