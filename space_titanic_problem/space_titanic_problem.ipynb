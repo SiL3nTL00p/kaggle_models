{
 "cells": [
  {
   "cell_type": "code",
   "execution_count": 49,
   "metadata": {},
   "outputs": [],
   "source": [
    "# all the import statements\n",
    "\n",
    "import numpy as np \n",
    "import pandas as pd \n",
    "import matplotlib.pyplot as plt\n",
    "from scipy.stats import randint,uniform\n",
    "from pandas.plotting import scatter_matrix\n",
    "from sklearn.utils import shuffle \n",
    "from sklearn.preprocessing import OneHotEncoder, StandardScaler, FunctionTransformer\n",
    "from sklearn.pipeline import Pipeline\n",
    "from sklearn.impute import SimpleImputer as Imputer\n",
    "from sklearn.preprocessing import PolynomialFeatures\n",
    "from sklearn.feature_selection import SelectKBest\n",
    "from sklearn.utils.class_weight import compute_class_weight\n",
    "from sklearn.model_selection import cross_validate,RandomizedSearchCV\n",
    "from sklearn.compose import ColumnTransformer\n",
    "from sklearn.linear_model import SGDClassifier\n",
    "from sklearn.model_selection import cross_val_score,cross_validate\n",
    "from sklearn.svm import SVC\n",
    "from sklearn.metrics import make_scorer, accuracy_score, precision_score, recall_score, f1_score\n",
    "from sklearn.ensemble import RandomForestClassifier\n",
    "from sklearn.tree import DecisionTreeClassifier\n",
    "from sklearn.metrics import roc_curve\n",
    "from sklearn.base import BaseEstimator, TransformerMixin\n",
    "from sklearn.impute import SimpleImputer\n",
    "from sklearn.model_selection import RandomizedSearchCV"
   ]
  },
  {
   "cell_type": "code",
   "execution_count": 44,
   "metadata": {},
   "outputs": [
    {
     "name": "stdout",
     "output_type": "stream",
     "text": [
      "Basic processing completed.\n"
     ]
    }
   ],
   "source": [
    "def load_data():\n",
    "    train_data = pd.read_csv('train.csv')\n",
    "    return train_data\n",
    "train_data = load_data()\n",
    "\n",
    "training_data = train_data.drop(columns=[\"Transported\"])\n",
    "target_data = train_data[\"Transported\"].astype(int)\n",
    "training_data['Expenses'] = training_data['RoomService'] + training_data['FoodCourt'] + training_data['ShoppingMall'] + training_data['Spa'] + training_data['VRDeck']\n",
    "training_data['Cabin_firstl'] = training_data['Cabin'].str.extract(r'([A-za-z])',expand=False)\n",
    "training_data = training_data.drop(columns=[\"Cabin\"])\n",
    "\n",
    "target_attributes = [\"Transported\"]\n",
    "num_attributes = training_data.select_dtypes(include=[np.number]).columns.tolist()\n",
    "cat_attributes = training_data.select_dtypes(exclude=[np.number]).columns.tolist()\n",
    "items_to_remove = [\"PassengerId\", \"Name\",'CryoSleep','VIP']\n",
    "new_cat_attributes = [ x for x in cat_attributes if x not in items_to_remove]\n",
    "bool_attributes = [\"CryoSleep\", \"VIP\"]\n",
    "\n",
    "# scat_matrix = scatter_matrix(training_data,figsize=(10,10),grid=True, diagonal='kde', alpha=0.2)\n",
    "# training_data.hist(figsize=(10,10), grid=True, bins=20, alpha=0.5)\n",
    "print(\"Basic processing completed.\")"
   ]
  },
  {
   "cell_type": "code",
   "execution_count": 45,
   "metadata": {},
   "outputs": [
    {
     "name": "stdout",
     "output_type": "stream",
     "text": [
      "Pipeline Ready\n"
     ]
    }
   ],
   "source": [
    "training_data = shuffle(training_data, random_state=42)\n",
    "\n",
    "num_pipeline = Pipeline([\n",
    "    ('imputer', SimpleImputer(strategy='mean',missing_values=np.nan)),\n",
    "    ('std_scaler', StandardScaler()),\n",
    "    ('poly_features', PolynomialFeatures(degree=2, include_bias=False)),\n",
    "    ('select_k_best', SelectKBest(k=10))  \n",
    "])\n",
    "\n",
    "cat_pipeline = Pipeline([\n",
    "    ('imputer', SimpleImputer(strategy='most_frequent', missing_values=np.nan)),\n",
    "    ('one_hot_encoder', OneHotEncoder(handle_unknown='ignore'))\n",
    "])\n",
    "\n",
    "bool_pipeline = Pipeline([  \n",
    "    ('imputer', SimpleImputer(strategy='most_frequent',missing_values=np.nan)),\n",
    "    ('int_converter',FunctionTransformer(lambda x : x.astype(int)))])\n",
    "\n",
    "pre_processing = ColumnTransformer(\n",
    "    transformers=[\n",
    "        ('num', num_pipeline,num_attributes),\n",
    "        ('cat', cat_pipeline,new_cat_attributes),\n",
    "        ('bool', bool_pipeline,bool_attributes)\n",
    "    ]\n",
    ")\n",
    "print(\"Pipeline Ready\")"
   ]
  },
  {
   "cell_type": "code",
   "execution_count": null,
   "metadata": {},
   "outputs": [
    {
     "name": "stdout",
     "output_type": "stream",
     "text": [
      "0       0\n",
      "1       1\n",
      "2       0\n",
      "3       0\n",
      "4       1\n",
      "       ..\n",
      "8688    0\n",
      "8689    0\n",
      "8690    1\n",
      "8691    0\n",
      "8692    1\n",
      "Name: Transported, Length: 8693, dtype: int64\n",
      "Class weights computed\n",
      "{0: 1.0073001158748551, 1: 0.9928049337597076}\n"
     ]
    }
   ],
   "source": [
    "def compute_class_weights(train_data):\n",
    "    class_weight = compute_class_weight(class_weight='balanced',classes = np.unique(train_data[\"Transported\"]),y=train_data[\"Transported\"])\n",
    "    class_weight_dict = dict(enumerate(class_weight))\n",
    "    print(\"Class weights computed\")\n",
    "    return class_weight_dict\n",
    "print(target_data)\n",
    "class_weights = compute_class_weights(train_data)"
   ]
  },
  {
   "cell_type": "code",
   "execution_count": 47,
   "metadata": {},
   "outputs": [
    {
     "name": "stdout",
     "output_type": "stream",
     "text": [
      "                             0\n",
      "fit_time              1.754174\n",
      "score_time            0.016947\n",
      "test_accuracy         0.500975\n",
      "test_precision_macro  0.501466\n",
      "test_recall_macro     0.501337\n",
      "test_f1_macro         0.497304\n"
     ]
    }
   ],
   "source": [
    "sgd_clf = SGDClassifier(random_state=42,loss=\"hinge\",penalty=\"l2\",max_iter=1000, tol=1e-3,\n",
    "                        alpha=0.00001, learning_rate=\"optimal\", eta0=0.0, power_t=0.5,\n",
    "                        early_stopping=True,class_weight=class_weights)\n",
    "\n",
    "svm_clf = SVC(kernel=\"rbf\", C=1.0, gamma='scale', probability=True,random_state=42)\n",
    "\n",
    "rf_clf = RandomForestClassifier(n_estimators=200, max_depth=10,\n",
    "                                min_samples_split=2, min_samples_leaf=4,\n",
    "                                max_features=0.3, bootstrap=False,ccp_alpha=0.0,\n",
    "                                class_weight=class_weights, random_state=42)\n",
    "\n",
    "model_pipeline = Pipeline([\n",
    "('pre_processor', pre_processing),\n",
    "('classifier', rf_clf)])\n",
    "\n",
    "scoring = ['accuracy', 'precision_macro', 'recall_macro', 'f1_macro']\n",
    "cvl_scores = cross_validate(model_pipeline, training_data, target_data, cv=10,scoring=scoring,\n",
    "                            error_score=\"raise\")\n",
    "cvl_scores_df = pd.DataFrame(cvl_scores)\n",
    "print(pd.DataFrame(cvl_scores_df.mean()))   "
   ]
  },
  {
   "cell_type": "code",
   "execution_count": 50,
   "metadata": {},
   "outputs": [
    {
     "name": "stdout",
     "output_type": "stream",
     "text": [
      "Fitting 10 folds for each of 10 candidates, totalling 100 fits\n"
     ]
    },
    {
     "name": "stderr",
     "output_type": "stream",
     "text": [
      "/opt/anaconda3/envs/aiml_env/lib/python3.10/site-packages/sklearn/model_selection/_validation.py:528: FitFailedWarning: \n",
      "10 fits failed out of a total of 100.\n",
      "The score on these train-test partitions for these parameters will be set to nan.\n",
      "If these failures are not expected, you can try to debug them by setting error_score='raise'.\n",
      "\n",
      "Below are more details about the failures:\n",
      "--------------------------------------------------------------------------------\n",
      "10 fits failed with the following error:\n",
      "Traceback (most recent call last):\n",
      "  File \"/opt/anaconda3/envs/aiml_env/lib/python3.10/site-packages/sklearn/model_selection/_validation.py\", line 866, in _fit_and_score\n",
      "    estimator.fit(X_train, y_train, **fit_params)\n",
      "  File \"/opt/anaconda3/envs/aiml_env/lib/python3.10/site-packages/sklearn/base.py\", line 1389, in wrapper\n",
      "    return fit_method(estimator, *args, **kwargs)\n",
      "  File \"/opt/anaconda3/envs/aiml_env/lib/python3.10/site-packages/sklearn/pipeline.py\", line 662, in fit\n",
      "    self._final_estimator.fit(Xt, y, **last_step_params[\"fit\"])\n",
      "  File \"/opt/anaconda3/envs/aiml_env/lib/python3.10/site-packages/sklearn/base.py\", line 1382, in wrapper\n",
      "    estimator._validate_params()\n",
      "  File \"/opt/anaconda3/envs/aiml_env/lib/python3.10/site-packages/sklearn/base.py\", line 436, in _validate_params\n",
      "    validate_parameter_constraints(\n",
      "  File \"/opt/anaconda3/envs/aiml_env/lib/python3.10/site-packages/sklearn/utils/_param_validation.py\", line 98, in validate_parameter_constraints\n",
      "    raise InvalidParameterError(\n",
      "sklearn.utils._param_validation.InvalidParameterError: The 'min_samples_split' parameter of RandomForestClassifier must be an int in the range [2, inf) or a float in the range (0.0, 1.0]. Got 1 instead.\n",
      "\n",
      "  warnings.warn(some_fits_failed_message, FitFailedWarning)\n",
      "/opt/anaconda3/envs/aiml_env/lib/python3.10/site-packages/sklearn/model_selection/_search.py:1108: UserWarning: One or more of the test scores are non-finite: [0.50362367 0.49959605        nan 0.49959605 0.50293401 0.49959605\n",
      " 0.50592397 0.50362367 0.50362367 0.49959605]\n",
      "  warnings.warn(\n"
     ]
    },
    {
     "name": "stdout",
     "output_type": "stream",
     "text": [
      "{'classifier__bootstrap': True, 'classifier__ccp_alpha': 0.001326496115986653, 'classifier__max_depth': 13, 'classifier__max_features': 'log2', 'classifier__min_samples_leaf': 9, 'classifier__min_samples_split': 8, 'classifier__n_estimators': 445} 0.5059239712709813\n",
      "random_search completed.\n"
     ]
    }
   ],
   "source": [
    "\n",
    "param_dict = {\n",
    "    'classifier__n_estimators': randint(100,500),\n",
    "    'classifier__max_depth': randint(0,20),\n",
    "    'classifier__min_samples_split': randint(0,10),\n",
    "    'classifier__min_samples_leaf': randint(0,10),\n",
    "    'classifier__max_features': ['sqrt', 'log2', 0.3],\n",
    "    'classifier__ccp_alpha': uniform(0,0.1),\n",
    "    'classifier__bootstrap': [True, False]\n",
    "}\n",
    "# Perform RandomizedSearchCV with SVC-specific parameters\n",
    "random_search = RandomizedSearchCV(estimator=model_pipeline, param_distributions=param_dict, n_iter=10,\n",
    "                                   scoring='accuracy', cv=10, verbose=1, random_state=42, n_jobs=-1)\n",
    "random_search.fit(training_data, target_data)\n",
    "print(random_search.best_params_, random_search.best_score_)\n",
    "print(\"random_search completed.\")"
   ]
  },
  {
   "cell_type": "code",
   "execution_count": null,
   "metadata": {},
   "outputs": [
    {
     "name": "stdout",
     "output_type": "stream",
     "text": [
      "[[0.49964152 0.50035848]\n",
      " [0.49964152 0.50035848]\n",
      " [0.49964152 0.50035848]\n",
      " ...\n",
      " [0.49982007 0.50017993]\n",
      " [0.49982007 0.50017993]\n",
      " [0.49982007 0.50017993]]\n"
     ]
    },
    {
     "data": {
      "image/png": "[encoded data removed]",
      "text/plain": [
       "<Figure size 640x480 with 1 Axes>"
      ]
     },
     "metadata": {},
     "output_type": "display_data"
    },
    {
     "name": "stdout",
     "output_type": "stream",
     "text": [
      "Model training and evaluation completed.\n"
     ]
    }
   ],
   "source": [
    "from sklearn.model_selection import cross_val_predict\n",
    "\n",
    "prd_scores = cross_val_predict(model_pipeline, training_data ,target_data, cv=20,method='predict_proba')\n",
    "print(prd_scores)\n",
    "fpr, tpr, thresholds = roc_curve(target_data, prd_scores[:, 1])\n",
    "\n",
    "def plot_roc_curve(fpr, tpr, label=None):\n",
    "    plt.plot(fpr, tpr, label=label, linewidth=2)\n",
    "    plt.xlabel('False Positive Rate')\n",
    "    plt.ylabel('True Positive Rate')\n",
    "    plt.show()\n",
    "    \n",
    "plot_roc_curve(fpr, tpr, label='ROC Curve')\n",
    "print(\"Model training and evaluation completed.\")"
   ]
  }
 ],
 "metadata": {
  "kernelspec": {
   "display_name": "aiml_env",
   "language": "python",
   "name": "python3"
  },
  "language_info": {
   "codemirror_mode": {
    "name": "ipython",
    "version": 3
   },
   "file_extension": ".py",
   "mimetype": "text/x-python",
   "name": "python",
   "nbconvert_exporter": "python",
   "pygments_lexer": "ipython3",
   "version": "3.10.13"
  }
 },
 "nbformat": 4,
 "nbformat_minor": 2
}
