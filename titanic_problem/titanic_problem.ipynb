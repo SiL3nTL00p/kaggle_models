{
 "cells": [
  {
   "cell_type": "code",
   "execution_count": null,
   "metadata": {},
   "outputs": [],
   "source": [
    "import numpy as np \n",
    "import pandas as pd \n",
    "import matplotlib.pyplot as plt\n",
    "def read_csv (path):\n",
    "    train_data = pd.read_csv(path)\n",
    "    return train_data\n",
    "\n",
    "train_data =  read_csv('train.csv')\n",
    "train_data_num = train_data.drop(columns=['Name', 'Sex', 'Ticket', 'Cabin', 'Embarked','Survived'])\n",
    "train_data_text = train_data.drop(columns=['PassengerId', 'Survived', 'Pclass', 'Age', 'SibSp', 'Parch', 'Fare'])\n",
    "train_data_target = train_data['Survived']\n",
    "corr_matrix = train_data_num.corr()\n",
    "training_data = train_data.drop([\"Survived\"], axis=1)\n",
    "train_data_num.hist(figsize=(10, 10), bins=30)\n",
    "plt.show()\n",
    "print(\"Data frame splitting completed.\")"
   ]
  },
  {
   "cell_type": "code",
   "execution_count": 108,
   "metadata": {},
   "outputs": [
    {
     "name": "stdout",
     "output_type": "stream",
     "text": [
      "Data preprocessing completed.\n"
     ]
    }
   ],
   "source": [
    "from sklearn.pipeline import Pipeline\n",
    "from sklearn.pipeline import FeatureUnion\n",
    "from sklearn.compose import ColumnTransformer\n",
    "from sklearn.preprocessing import OrdinalEncoder, StandardScaler\n",
    "from sklearn.impute import SimpleImputer\n",
    "\n",
    "num_attributes = list(train_data_num)\n",
    "text_attributes = list(train_data_text)\n",
    "\n",
    "num_pipeline = Pipeline([  \n",
    "    ('imputer', SimpleImputer(missing_values=np.nan, strategy='mean')), \n",
    "    ('scaler', StandardScaler())\n",
    "])\n",
    "\n",
    "text_pipeline = Pipeline([\n",
    "    ('impute_text', SimpleImputer(missing_values=np.nan, strategy='most_frequent')),\n",
    "    ('ordinal_encoder', OrdinalEncoder(handle_unknown='use_encoded_value', unknown_value=-1)),\n",
    "])\n",
    "\n",
    "pre_processor = ColumnTransformer(\n",
    "    transformers=[\n",
    "        ('num', num_pipeline, num_attributes),\n",
    "        ('text', text_pipeline, text_attributes)\n",
    "    ],\n",
    ")\n",
    "\n",
    "print(\"Data preprocessing completed.\")"
   ]
  },
  {
   "cell_type": "code",
   "execution_count": 109,
   "metadata": {},
   "outputs": [
    {
     "name": "stdout",
     "output_type": "stream",
     "text": [
      "Class weights computed\n"
     ]
    }
   ],
   "source": [
    "from sklearn.utils.class_weight import compute_class_weight \n",
    "\n",
    "class_weight = compute_class_weight(class_weight='balanced',classes = np.unique(train_data[\"Survived\"]),y=train_data[\"Survived\"])\n",
    "class_weight_dict = dict(enumerate(class_weight))\n",
    "print(\"Class weights computed\")\n"
   ]
  },
  {
   "cell_type": "code",
   "execution_count": null,
   "metadata": {},
   "outputs": [],
   "source": [
    "from sklearn.linear_model import SGDClassifier\n",
    "from sklearn.model_selection import cross_val_score,cross_validate\n",
    "from sklearn.svm import SVC\n",
    "from sklearn.metrics import make_scorer, accuracy_score, precision_score, recall_score, f1_score\n",
    "from sklearn.ensemble import RandomForestClassifier\n",
    "from sklearn.tree import DecisionTreeClassifier\n",
    "from sklearn.metrics import roc_curve\n",
    "\n",
    "sgd_clf = SGDClassifier(random_state=42,loss=\"hinge\",penalty=\"l2\",max_iter=1000, tol=1e-3,\n",
    "                        alpha=0.00001, learning_rate=\"optimal\", eta0=0.0, power_t=0.5,\n",
    "                        early_stopping=True,)\n",
    "\n",
    "svm_clf = SVC(kernel=\"rbf\", C=1.0, gamma='scale', probability=True,random_state=42)\n",
    "\n",
    "rf_clf = RandomForestClassifier(n_estimators=200, max_depth=10,\n",
    "                                min_samples_split=10, min_samples_leaf=2,\n",
    "                                max_features='log2', bootstrap=True,ccp_alpha=0.01,\n",
    "                                class_weight=class_weight_dict, random_state=42)\n",
    "\n",
    "dt_clf = DecisionTreeClassifier(random_state=42,max_depth=None, min_samples_split=2,criterion='log_loss',\n",
    "                                splitter='best', min_samples_leaf=1,class_weight=class_weight_dict)\n",
    "\n",
    "model_pipeline = Pipeline([('preprocessor', pre_processor),('classifier', rf_clf)])\n",
    "\n",
    "scoring = {'accuracy': 'accuracy','precision': make_scorer(precision_score, zero_division=0),\n",
    "           'recall': make_scorer(recall_score, zero_division=0),'f1': make_scorer(f1_score, zero_division=0)}\n",
    "\n",
    "scores = cross_validate(model_pipeline,training_data,train_data_target,scoring=scoring,\n",
    "                         cv=20,error_score='raise',n_jobs=-1,verbose=1)\n",
    "scores_list = pd.DataFrame(scores)\n",
    "print(scores_list)\n",
    "scores_list.mean(axis=0)   \n",
    "print(\"Cross-validation completed.\")     "
   ]
  },
  {
   "cell_type": "code",
   "execution_count": null,
   "metadata": {},
   "outputs": [
    {
     "name": "stdout",
     "output_type": "stream",
     "text": [
      "Fitting 5 folds for each of 10 candidates, totalling 50 fits\n",
      "{'classifier__n_estimators': 200, 'classifier__min_samples_split': 5, 'classifier__min_samples_leaf': 2, 'classifier__max_features': 'log2', 'classifier__max_depth': 10, 'classifier__ccp_alpha': 0.0, 'classifier__bootstrap': True} 0.8159374803841567\n"
     ]
    }
   ],
   "source": [
    "from sklearn.model_selection import RandomizedSearchCV\n",
    "\n",
    "param_dict = {\n",
    "    'classifier__n_estimators': [100, 200, 500],\n",
    "    'classifier__max_depth': [5, 10, 15, None],\n",
    "    'classifier__min_samples_split': [2, 5, 10],\n",
    "    'classifier__min_samples_leaf': [1, 2, 4],\n",
    "    'classifier__max_features': ['sqrt', 'log2', 0.3],\n",
    "    'classifier__ccp_alpha': [0.0, 0.01, 0.1],\n",
    "    'classifier__bootstrap': [True, False]\n",
    "}\n",
    "# Perform RandomizedSearchCV with SVC-specific parameters\n",
    "random_search = RandomizedSearchCV(estimator=model_pipeline, param_distributions=param_dict, n_iter=10,\n",
    "                                   scoring='accuracy', cv=5, verbose=1, random_state=42, n_jobs=-1)\n",
    "random_search.fit(training_data, train_data_target)\n",
    "print(random_search.best_params_, random_search.best_score_)\n",
    "print(\"random_search completed.\")"
   ]
  },
  {
   "cell_type": "code",
   "execution_count": 114,
   "metadata": {},
   "outputs": [
    {
     "name": "stdout",
     "output_type": "stream",
     "text": [
      "[[0.66288957 0.33711043]\n",
      " [0.13295907 0.86704093]\n",
      " [0.31980452 0.68019548]\n",
      " ...\n",
      " [0.44316163 0.55683837]\n",
      " [0.5134528  0.4865472 ]\n",
      " [0.71488679 0.28511321]]\n"
     ]
    },
    {
     "data": {
      "image/png": "[encoded data removed]",
      "text/plain": [
       "<Figure size 640x480 with 1 Axes>"
      ]
     },
     "metadata": {},
     "output_type": "display_data"
    },
    {
     "name": "stdout",
     "output_type": "stream",
     "text": [
      "Model training and evaluation completed.\n"
     ]
    }
   ],
   "source": [
    "from sklearn.model_selection import cross_val_predict\n",
    "\n",
    "prd_scores = cross_val_predict(model_pipeline, train_data ,train_data_target, cv=20,method='predict_proba')\n",
    "print(prd_scores)\n",
    "fpr, tpr, thresholds = roc_curve(train_data_target, prd_scores[:, 1])\n",
    "\n",
    "def plot_roc_curve(fpr, tpr, label=None):\n",
    "    plt.plot(fpr, tpr, label=label, linewidth=2)\n",
    "    plt.xlabel('False Positive Rate')\n",
    "    plt.ylabel('True Positive Rate')\n",
    "    plt.show()\n",
    "    \n",
    "plot_roc_curve(fpr, tpr, label='ROC Curve')\n",
    "print(\"Model training and evaluation completed.\")"
   ]
  },
  {
   "cell_type": "code",
   "execution_count": 118,
   "metadata": {},
   "outputs": [
    {
     "name": "stdout",
     "output_type": "stream",
     "text": [
      "Submission file created.\n"
     ]
    }
   ],
   "source": [
    "model_pipeline.fit(training_data, train_data_target)\n",
    "\n",
    "test_data = read_csv('test.csv')\n",
    "\n",
    "predict_surviving = model_pipeline.predict(test_data)\n",
    "sub_data = pd.DataFrame({'PassengerId': test_data['PassengerId'], 'Survived': predict_surviving})\n",
    "sub_data.to_csv('submission.csv', index=False)\n",
    "print(\"Submission file created.\")"
   ]
  }
 ],
 "metadata": {
  "kernelspec": {
   "display_name": "aiml_env",
   "language": "python",
   "name": "python3"
  },
  "language_info": {
   "codemirror_mode": {
    "name": "ipython",
    "version": 3
   },
   "file_extension": ".py",
   "mimetype": "text/x-python",
   "name": "python",
   "nbconvert_exporter": "python",
   "pygments_lexer": "ipython3",
   "version": "3.10.13"
  }
 },
 "nbformat": 4,
 "nbformat_minor": 2
}
