{
 "cells": [
  {
   "cell_type": "code",
   "execution_count": null,
   "metadata": {},
   "outputs": [],
   "source": [
    "import numpy as np \n",
    "import pandas as pd \n",
    "import matplotlib.pyplot as plt\n",
    "def read_csv (path):\n",
    "    train_data = pd.read_csv(path)\n",
    "    return train_data\n",
    "\n",
    "train_data =  read_csv('train.csv')\n",
    "train_data_num = train_data.drop(columns=['Name', 'Sex', 'Ticket', 'Cabin', 'Embarked'])\n",
    "train_data_text = train_data.drop(columns=['PassengerId', 'Survived', 'Pclass', 'Age', 'SibSp', 'Parch', 'Fare'])\n",
    "train_data_target = train_data['Survived']\n",
    "corr_matrix = train_data_num.corr()\n",
    "\n",
    "train_data_num.hist(figsize=(10, 10), bins=30)\n",
    "plt.show()\n",
    "print()"
   ]
  },
  {
   "cell_type": "code",
   "execution_count": 58,
   "metadata": {},
   "outputs": [],
   "source": [
    "from sklearn.impute import SimpleImputer\n",
    "from sklearn.preprocessing import LabelEncoder\n",
    "from sklearn.preprocessing import StandardScaler\n",
    "from sklearn.base import BaseEstimator, TransformerMixin\n",
    "\n",
    "class DataFrameSelector(BaseEstimator, TransformerMixin):\n",
    "    def __init__(self, attribute_names):\n",
    "        self.attribute_names = attribute_names\n",
    "    def fit(self, X, y=None):\n",
    "        return self\n",
    "    def transform(self, X):\n",
    "        return X[self.attribute_names].values"
   ]
  },
  {
   "cell_type": "code",
   "execution_count": 59,
   "metadata": {},
   "outputs": [],
   "source": [
    "from sklearn.pipeline import Pipeline\n",
    "from sklearn.pipeline import FeatureUnion\n",
    "from sklearn.preprocessing import OrdinalEncoder\n",
    "\n",
    "num_attributes = list(train_data_num)\n",
    "text_attributes = list(train_data_text)\n",
    "\n",
    "num_pipeline = Pipeline([  \n",
    "    ('df_selector', DataFrameSelector(num_attributes)),\n",
    "    ('imputer', SimpleImputer(missing_values=np.nan, strategy='mean')), \n",
    "    ('scaler', StandardScaler())\n",
    "])\n",
    "\n",
    "text_pipeline = Pipeline([\n",
    "    ('df_selector', DataFrameSelector(text_attributes)),\n",
    "    ('impute_text', SimpleImputer(missing_values=np.nan, strategy='most_frequent')),\n",
    "    ('ordinal_encoder', OrdinalEncoder())\n",
    "])\n",
    "\n",
    "full_pipeline = FeatureUnion(transformer_list=[\n",
    "    ('num_pipeline', num_pipeline),\n",
    "    ('text_pipeline', text_pipeline)\n",
    "])\n",
    "\n",
    "train_data_prepared = full_pipeline.fit_transform(train_data)"
   ]
  },
  {
   "cell_type": "code",
   "execution_count": 60,
   "metadata": {},
   "outputs": [
    {
     "name": "stdout",
     "output_type": "stream",
     "text": [
      "SGD Regressor scores: [2.15415613e+14 4.21250625e+14 2.08517648e+14 5.34701501e+14\n",
      " 7.43674731e+13]\n"
     ]
    }
   ],
   "source": [
    "from sklearn.linear_model import SGDRegressor\n",
    "from sklearn.model_selection import cross_val_score\n",
    "from sklearn.metrics import mean_squared_error,accuracy_score\n",
    "\n",
    "sgd_reg = SGDRegressor(penalty='l2', max_iter=1000, tol=1e-3, random_state=42,\n",
    "                       alpha=0.0001, learning_rate='invscaling', eta0=0.01,early_stopping=True,)\n",
    "\n",
    "scores = cross_val_score(sgd_reg, train_data_prepared, train_data_target, \n",
    "                         scoring='neg_mean_squared_error', cv=5)\n",
    "sgd_scores = np.sqrt(-scores)\n",
    "print(\"SGD Regressor scores:\", sgd_scores)\n"
   ]
  }
 ],
 "metadata": {
  "kernelspec": {
   "display_name": "aiml_env",
   "language": "python",
   "name": "python3"
  },
  "language_info": {
   "codemirror_mode": {
    "name": "ipython",
    "version": 3
   },
   "file_extension": ".py",
   "mimetype": "text/x-python",
   "name": "python",
   "nbconvert_exporter": "python",
   "pygments_lexer": "ipython3",
   "version": "3.10.13"
  }
 },
 "nbformat": 4,
 "nbformat_minor": 2
}
